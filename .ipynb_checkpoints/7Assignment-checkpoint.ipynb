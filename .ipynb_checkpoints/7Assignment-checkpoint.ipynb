{
 "cells": [
  {
   "cell_type": "code",
   "execution_count": 3,
   "id": "81e6e81b-0d54-405a-90ae-0ce04ec064a7",
   "metadata": {},
   "outputs": [
    {
     "ename": "SyntaxError",
     "evalue": "invalid syntax (775357189.py, line 2)",
     "output_type": "error",
     "traceback": [
      "\u001b[1;36m  Cell \u001b[1;32mIn[3], line 2\u001b[1;36m\u001b[0m\n\u001b[1;33m    pip install nltk==3.8.1\u001b[0m\n\u001b[1;37m        ^\u001b[0m\n\u001b[1;31mSyntaxError\u001b[0m\u001b[1;31m:\u001b[0m invalid syntax\n"
     ]
    }
   ],
   "source": [
    "# ALSO LOOK AT SHANTANU GITHUB FOR OPEN DOCUMENT IN READ MODE AND MORE\n",
    "pip install nltk==3.8.1"
   ]
  },
  {
   "cell_type": "code",
   "execution_count": 4,
   "id": "7d055fc7-2c64-45d3-9742-28ed8960ef37",
   "metadata": {},
   "outputs": [],
   "source": [
    "import nltk"
   ]
  },
  {
   "cell_type": "code",
   "execution_count": 5,
   "id": "9147cf53-81be-4068-8840-5f64d86195c4",
   "metadata": {},
   "outputs": [
    {
     "name": "stderr",
     "output_type": "stream",
     "text": [
      "[nltk_data] Downloading package punkt to\n",
      "[nltk_data]     C:\\Users\\surya\\AppData\\Roaming\\nltk_data...\n",
      "[nltk_data]   Package punkt is already up-to-date!\n",
      "[nltk_data] Downloading package stopwords to\n",
      "[nltk_data]     C:\\Users\\surya\\AppData\\Roaming\\nltk_data...\n",
      "[nltk_data]   Package stopwords is already up-to-date!\n",
      "[nltk_data] Downloading package wordnet to\n",
      "[nltk_data]     C:\\Users\\surya\\AppData\\Roaming\\nltk_data...\n",
      "[nltk_data]   Package wordnet is already up-to-date!\n",
      "[nltk_data] Downloading package averaged_perceptron_tagger to\n",
      "[nltk_data]     C:\\Users\\surya\\AppData\\Roaming\\nltk_data...\n",
      "[nltk_data]   Package averaged_perceptron_tagger is already up-to-\n",
      "[nltk_data]       date!\n"
     ]
    },
    {
     "data": {
      "text/plain": [
       "True"
      ]
     },
     "execution_count": 5,
     "metadata": {},
     "output_type": "execute_result"
    }
   ],
   "source": [
    "nltk.download('punkt')\n",
    "nltk.download('stopwords')\n",
    "nltk.download('wordnet')\n",
    "nltk.download('averaged_perceptron_tagger')"
   ]
  },
  {
   "cell_type": "code",
   "execution_count": 6,
   "id": "d3629462-dc7c-435b-b75a-a6d4d069b6e7",
   "metadata": {},
   "outputs": [
    {
     "name": "stdout",
     "output_type": "stream",
     "text": [
      "['Tokenization is the first step in text analytics.', 'The process of breaking down a text paragraph into smaller chunks such as words or sentences is called Tokenization.']\n"
     ]
    }
   ],
   "source": [
    "text = \"Tokenization is the first step in text analytics. The process of breaking down a text paragraph into smaller chunks such as words or sentences is called Tokenization.\"\n",
    "from nltk.tokenize import sent_tokenize\n",
    "tokenized_text = sent_tokenize(text)\n",
    "print(tokenized_text)"
   ]
  },
  {
   "cell_type": "code",
   "execution_count": 18,
   "id": "d02e91b6-5d19-4127-9edb-99dc8ef705f9",
   "metadata": {},
   "outputs": [
    {
     "name": "stdout",
     "output_type": "stream",
     "text": [
      "Pune Institute of Computer Technology (PICT) was established in 1983 by a group of enterprising visionary professionals and has come a long way and marched ahead with quality education imbibed with professional and ethical values. Our mission is to be the most sought-after institute in Engineering education and research, that provides relevant knowledge, creates challenging opportunities, and inculcate values and social responsibilities. Pune Institute of Computer Technology has cut niche for itself to be one of the India’s leading institutions in higher Technical Education and Research of International repute. We celebrate the illustrious accomplishments of the past and take pride in our position as one of the top institutions of our country.\n",
      "\n",
      "At PICT, talent and ambitions come together in a culture that nourishes thinking and encourages every student to reach his or her full potential. Life at PICT is much more than the regular academic activities.  PICT campus is technically vibrant with lot of activities throughout the year, supported by professional societies like IEEE, ACM, CSI, IET. Additionally, there are clubs/groups like ROBOCON, DRONE, SIGs, BUDDYs, Automobile (electric Racing Cart), Debate, TEDx, MUN, etc. The PICT art circle is one of the top cultural groups known for its talents & achievements. The activities include but not limited to: Art, Drama, Debate, Dance, Singing, & quizzes. Our students have bagged many prestigious awards, prizes, & medals in technical, sports, and cultural events (like Microsoft Imagine Cup, Hackathons, Robocon, Purushottam Karandak, Firodiya Karandak). The students of PICT are the top achievers with big dreams and fierce drive. They are pushed to expand their thinking not only by their professors but also by the extraordinary individuals who are their peers. We wish that the student entering our institute will become holistic, responsible person contributing not only to the technocratic demands of the world but also for the betterment of the society. PICT offers three under-graduate programs in Computer Engineering, Electronics & Telecommunication Engineering, and Information Technology; and four post-graduate programs in Computer Engineering, Data Science, Electronics & Telecommunication Engineering (Wireless Communication Technology), and Information Technology. It is also a Savitribai Phule Pune University recognized research center in Computer Engineering and Electronics & Telecommunication Engineering.\n",
      "\n",
      "PICT Campus houses more than 3500+ students & 240+ Staff. The academic results of PICT are the best among all the colleges affiliated to Savitribai Phule University (SPPU). It’s heartening to know that 326 students secured SGPA of 10/10 in SPPU FE 1st Semester examination & 100% pass percentage, most of them getting distinctions. In the Final year examination (BE), the result is almost 100%, most of them securing distinction. The Placement record is excellent with an average salary of 10.5 LPA & the highest annual package of 41 Lakh, despite of the COVID-19 disruption. One of our students got selected as a software development engineer with a Package of 1.12 Crore. Almost all top-notch companies visit PICT for campus recruitment.\n",
      "\n",
      "The faculty members have undertaken research projects funded by DST, AICTE, DRDO, SPPU, etc. We have received significant consultancy work from the industry. The number of quality Publications, Patents, and Product development has also increased significantly. The Entrepreneurship Development Cell (EDC) and Startup & Innovation Cell (SIC) inculcate research culture and enterprising skills among the students and faculty by building a sustainable entrepreneurial & research ecosystem. They empower young talented minds to transform their finding, research, & innovative ideas into a product or service that creates value.\n",
      "\n",
      "The current scenario at the local, national, and international levels is intense competition with equal opportunity for all. PICT provides a student-centered learning environment with close student-faculty interaction and constant participation in the industry. Through periodic seminars, symposia, workshops, and industry visits as an integral part of the course, the students are equipped with technical knowledge, critical thinking skills, and creativity to excel in the engineering profession. Alongside, technology fairs, college carnivals, sports summits, and other such co-curricular and extra-curricular events also constitute an important part of life at PICT. I take this opportunity to appreciate the commendable job of our staff & students by adapting a new & innovate ICT-based online teaching-learning model during this challenging period of new normal.\n",
      "\n",
      "I, along with the entire PICT family, take this opportunity to thank all the stakeholders (true Brand Ambassadors/Partners) for showing solidarity and continuous support in achieving a pioneering position over the last five decades. Let me assure you that PICT will provide you with the best combination of skills, knowledge, & teamwork (not neglecting “attitude”), to succeed in your chosen career field and will equip the students with the professional acumen that will help them to meet the challenges of the modern industrial & service work environment.\n",
      " Finally, I extend my best wishes to all my student friends for an exciting and rewarding, challenging, and stimulating, four years on this campus & a bright future thereafter.\n"
     ]
    }
   ],
   "source": [
    "with open('message.txt', 'r', encoding='utf-8') as file:\n",
    "    dm = file.read()\n",
    "print(dm)"
   ]
  },
  {
   "cell_type": "code",
   "execution_count": 9,
   "id": "b6145192-5e66-4217-951f-1acfc00ce67c",
   "metadata": {},
   "outputs": [
    {
     "name": "stdout",
     "output_type": "stream",
     "text": [
      "['Pune Institute of Computer Technology (PICT) was established in 1983 by a group of enterprising visionary professionals and has come a long way and marched ahead with quality education imbibed with professional and ethical values.', 'Our mission is to be the most sought-after institute in Engineering education and research, that provides relevant knowledge, creates challenging opportunities, and inculcate values and social responsibilities.', 'Pune Institute of Computer Technology has cut niche for itself to be one of the India’s leading institutions in higher Technical Education and Research of International repute.', 'We celebrate the illustrious accomplishments of the past and take pride in our position as one of the top institutions of our country.', 'At PICT, talent and ambitions come together in a culture that nourishes thinking and encourages every student to reach his or her full potential.', 'Life at PICT is much more than the regular academic activities.', 'PICT campus is technically vibrant with lot of activities throughout the year, supported by professional societies like IEEE, ACM, CSI, IET.', 'Additionally, there are clubs/groups like ROBOCON, DRONE, SIGs, BUDDYs, Automobile (electric Racing Cart), Debate, TEDx, MUN, etc.', 'The PICT art circle is one of the top cultural groups known for its talents & achievements.', 'The activities include but not limited to: Art, Drama, Debate, Dance, Singing, & quizzes.', 'Our students have bagged many prestigious awards, prizes, & medals in technical, sports, and cultural events (like Microsoft Imagine Cup, Hackathons, Robocon, Purushottam Karandak, Firodiya Karandak).', 'The students of PICT are the top achievers with big dreams and fierce drive.', 'They are pushed to expand their thinking not only by their professors but also by the extraordinary individuals who are their peers.', 'We wish that the student entering our institute will become holistic, responsible person contributing not only to the technocratic demands of the world but also for the betterment of the society.', 'PICT offers three under-graduate programs in Computer Engineering, Electronics & Telecommunication Engineering, and Information Technology; and four post-graduate programs in Computer Engineering, Data Science, Electronics & Telecommunication Engineering (Wireless Communication Technology), and Information Technology.', 'It is also a Savitribai Phule Pune University recognized research center in Computer Engineering and Electronics & Telecommunication Engineering.', 'PICT Campus houses more than 3500+ students & 240+ Staff.', 'The academic results of PICT are the best among all the colleges affiliated to Savitribai Phule University (SPPU).', 'It’s heartening to know that 326 students secured SGPA of 10/10 in SPPU FE 1st Semester examination & 100% pass percentage, most of them getting distinctions.', 'In the Final year examination (BE), the result is almost 100%, most of them securing distinction.', 'The Placement record is excellent with an average salary of 10.5 LPA & the highest annual package of 41 Lakh, despite of the COVID-19 disruption.', 'One of our students got selected as a software development engineer with a Package of 1.12 Crore.', 'Almost all top-notch companies visit PICT for campus recruitment.', 'The faculty members have undertaken research projects funded by DST, AICTE, DRDO, SPPU, etc.', 'We have received significant consultancy work from the industry.', 'The number of quality Publications, Patents, and Product development has also increased significantly.', 'The Entrepreneurship Development Cell (EDC) and Startup & Innovation Cell (SIC) inculcate research culture and enterprising skills among the students and faculty by building a sustainable entrepreneurial & research ecosystem.', 'They empower young talented minds to transform their finding, research, & innovative ideas into a product or service that creates value.', 'The current scenario at the local, national, and international levels is intense competition with equal opportunity for all.', 'PICT provides a student-centered learning environment with close student-faculty interaction and constant participation in the industry.', 'Through periodic seminars, symposia, workshops, and industry visits as an integral part of the course, the students are equipped with technical knowledge, critical thinking skills, and creativity to excel in the engineering profession.', 'Alongside, technology fairs, college carnivals, sports summits, and other such co-curricular and extra-curricular events also constitute an important part of life at PICT.', 'I take this opportunity to appreciate the commendable job of our staff & students by adapting a new & innovate ICT-based online teaching-learning model during this challenging period of new normal.', 'I, along with the entire PICT family, take this opportunity to thank all the stakeholders (true Brand Ambassadors/Partners) for showing solidarity and continuous support in achieving a pioneering position over the last five decades.', 'Let me assure you that PICT will provide you with the best combination of skills, knowledge, & teamwork (not neglecting “attitude”), to succeed in your chosen career field and will equip the students with the professional acumen that will help them to meet the challenges of the modern industrial & service work environment.', 'Finally, I extend my best wishes to all my student friends for an exciting and rewarding, challenging, and stimulating, four years on this campus & a bright future thereafter.']\n"
     ]
    }
   ],
   "source": [
    "tokenized_file = sent_tokenize(dm)\n",
    "print(tokenized_file)"
   ]
  },
  {
   "cell_type": "code",
   "execution_count": 12,
   "id": "7cfb8453-84a6-4e7c-9153-4c336ef54145",
   "metadata": {},
   "outputs": [
    {
     "name": "stdout",
     "output_type": "stream",
     "text": [
      "['Pune', 'Institute', 'of', 'Computer', 'Technology', '(', 'PICT', ')', 'was', 'established', 'in', '1983', 'by', 'a', 'group', 'of', 'enterprising', 'visionary', 'professionals', 'and', 'has', 'come', 'a', 'long', 'way', 'and', 'marched', 'ahead', 'with', 'quality', 'education', 'imbibed', 'with', 'professional', 'and', 'ethical', 'values', '.', 'Our', 'mission', 'is', 'to', 'be', 'the', 'most', 'sought-after', 'institute', 'in', 'Engineering', 'education', 'and', 'research', ',', 'that', 'provides', 'relevant', 'knowledge', ',', 'creates', 'challenging', 'opportunities', ',', 'and', 'inculcate', 'values', 'and', 'social', 'responsibilities', '.', 'Pune', 'Institute', 'of', 'Computer', 'Technology', 'has', 'cut', 'niche', 'for', 'itself', 'to', 'be', 'one', 'of', 'the', 'India', '’', 's', 'leading', 'institutions', 'in', 'higher', 'Technical', 'Education', 'and', 'Research', 'of', 'International', 'repute', '.', 'We', 'celebrate', 'the', 'illustrious', 'accomplishments', 'of', 'the', 'past', 'and', 'take', 'pride', 'in', 'our', 'position', 'as', 'one', 'of', 'the', 'top', 'institutions', 'of', 'our', 'country', '.', 'At', 'PICT', ',', 'talent', 'and', 'ambitions', 'come', 'together', 'in', 'a', 'culture', 'that', 'nourishes', 'thinking', 'and', 'encourages', 'every', 'student', 'to', 'reach', 'his', 'or', 'her', 'full', 'potential', '.', 'Life', 'at', 'PICT', 'is', 'much', 'more', 'than', 'the', 'regular', 'academic', 'activities', '.', 'PICT', 'campus', 'is', 'technically', 'vibrant', 'with', 'lot', 'of', 'activities', 'throughout', 'the', 'year', ',', 'supported', 'by', 'professional', 'societies', 'like', 'IEEE', ',', 'ACM', ',', 'CSI', ',', 'IET', '.', 'Additionally', ',', 'there', 'are', 'clubs/groups', 'like', 'ROBOCON', ',', 'DRONE', ',', 'SIGs', ',', 'BUDDYs', ',', 'Automobile', '(', 'electric', 'Racing', 'Cart', ')', ',', 'Debate', ',', 'TEDx', ',', 'MUN', ',', 'etc', '.', 'The', 'PICT', 'art', 'circle', 'is', 'one', 'of', 'the', 'top', 'cultural', 'groups', 'known', 'for', 'its', 'talents', '&', 'achievements', '.', 'The', 'activities', 'include', 'but', 'not', 'limited', 'to', ':', 'Art', ',', 'Drama', ',', 'Debate', ',', 'Dance', ',', 'Singing', ',', '&', 'quizzes', '.', 'Our', 'students', 'have', 'bagged', 'many', 'prestigious', 'awards', ',', 'prizes', ',', '&', 'medals', 'in', 'technical', ',', 'sports', ',', 'and', 'cultural', 'events', '(', 'like', 'Microsoft', 'Imagine', 'Cup', ',', 'Hackathons', ',', 'Robocon', ',', 'Purushottam', 'Karandak', ',', 'Firodiya', 'Karandak', ')', '.', 'The', 'students', 'of', 'PICT', 'are', 'the', 'top', 'achievers', 'with', 'big', 'dreams', 'and', 'fierce', 'drive', '.', 'They', 'are', 'pushed', 'to', 'expand', 'their', 'thinking', 'not', 'only', 'by', 'their', 'professors', 'but', 'also', 'by', 'the', 'extraordinary', 'individuals', 'who', 'are', 'their', 'peers', '.', 'We', 'wish', 'that', 'the', 'student', 'entering', 'our', 'institute', 'will', 'become', 'holistic', ',', 'responsible', 'person', 'contributing', 'not', 'only', 'to', 'the', 'technocratic', 'demands', 'of', 'the', 'world', 'but', 'also', 'for', 'the', 'betterment', 'of', 'the', 'society', '.', 'PICT', 'offers', 'three', 'under-graduate', 'programs', 'in', 'Computer', 'Engineering', ',', 'Electronics', '&', 'Telecommunication', 'Engineering', ',', 'and', 'Information', 'Technology', ';', 'and', 'four', 'post-graduate', 'programs', 'in', 'Computer', 'Engineering', ',', 'Data', 'Science', ',', 'Electronics', '&', 'Telecommunication', 'Engineering', '(', 'Wireless', 'Communication', 'Technology', ')', ',', 'and', 'Information', 'Technology', '.', 'It', 'is', 'also', 'a', 'Savitribai', 'Phule', 'Pune', 'University', 'recognized', 'research', 'center', 'in', 'Computer', 'Engineering', 'and', 'Electronics', '&', 'Telecommunication', 'Engineering', '.', 'PICT', 'Campus', 'houses', 'more', 'than', '3500+', 'students', '&', '240+', 'Staff', '.', 'The', 'academic', 'results', 'of', 'PICT', 'are', 'the', 'best', 'among', 'all', 'the', 'colleges', 'affiliated', 'to', 'Savitribai', 'Phule', 'University', '(', 'SPPU', ')', '.', 'It', '’', 's', 'heartening', 'to', 'know', 'that', '326', 'students', 'secured', 'SGPA', 'of', '10/10', 'in', 'SPPU', 'FE', '1st', 'Semester', 'examination', '&', '100', '%', 'pass', 'percentage', ',', 'most', 'of', 'them', 'getting', 'distinctions', '.', 'In', 'the', 'Final', 'year', 'examination', '(', 'BE', ')', ',', 'the', 'result', 'is', 'almost', '100', '%', ',', 'most', 'of', 'them', 'securing', 'distinction', '.', 'The', 'Placement', 'record', 'is', 'excellent', 'with', 'an', 'average', 'salary', 'of', '10.5', 'LPA', '&', 'the', 'highest', 'annual', 'package', 'of', '41', 'Lakh', ',', 'despite', 'of', 'the', 'COVID-19', 'disruption', '.', 'One', 'of', 'our', 'students', 'got', 'selected', 'as', 'a', 'software', 'development', 'engineer', 'with', 'a', 'Package', 'of', '1.12', 'Crore', '.', 'Almost', 'all', 'top-notch', 'companies', 'visit', 'PICT', 'for', 'campus', 'recruitment', '.', 'The', 'faculty', 'members', 'have', 'undertaken', 'research', 'projects', 'funded', 'by', 'DST', ',', 'AICTE', ',', 'DRDO', ',', 'SPPU', ',', 'etc', '.', 'We', 'have', 'received', 'significant', 'consultancy', 'work', 'from', 'the', 'industry', '.', 'The', 'number', 'of', 'quality', 'Publications', ',', 'Patents', ',', 'and', 'Product', 'development', 'has', 'also', 'increased', 'significantly', '.', 'The', 'Entrepreneurship', 'Development', 'Cell', '(', 'EDC', ')', 'and', 'Startup', '&', 'Innovation', 'Cell', '(', 'SIC', ')', 'inculcate', 'research', 'culture', 'and', 'enterprising', 'skills', 'among', 'the', 'students', 'and', 'faculty', 'by', 'building', 'a', 'sustainable', 'entrepreneurial', '&', 'research', 'ecosystem', '.', 'They', 'empower', 'young', 'talented', 'minds', 'to', 'transform', 'their', 'finding', ',', 'research', ',', '&', 'innovative', 'ideas', 'into', 'a', 'product', 'or', 'service', 'that', 'creates', 'value', '.', 'The', 'current', 'scenario', 'at', 'the', 'local', ',', 'national', ',', 'and', 'international', 'levels', 'is', 'intense', 'competition', 'with', 'equal', 'opportunity', 'for', 'all', '.', 'PICT', 'provides', 'a', 'student-centered', 'learning', 'environment', 'with', 'close', 'student-faculty', 'interaction', 'and', 'constant', 'participation', 'in', 'the', 'industry', '.', 'Through', 'periodic', 'seminars', ',', 'symposia', ',', 'workshops', ',', 'and', 'industry', 'visits', 'as', 'an', 'integral', 'part', 'of', 'the', 'course', ',', 'the', 'students', 'are', 'equipped', 'with', 'technical', 'knowledge', ',', 'critical', 'thinking', 'skills', ',', 'and', 'creativity', 'to', 'excel', 'in', 'the', 'engineering', 'profession', '.', 'Alongside', ',', 'technology', 'fairs', ',', 'college', 'carnivals', ',', 'sports', 'summits', ',', 'and', 'other', 'such', 'co-curricular', 'and', 'extra-curricular', 'events', 'also', 'constitute', 'an', 'important', 'part', 'of', 'life', 'at', 'PICT', '.', 'I', 'take', 'this', 'opportunity', 'to', 'appreciate', 'the', 'commendable', 'job', 'of', 'our', 'staff', '&', 'students', 'by', 'adapting', 'a', 'new', '&', 'innovate', 'ICT-based', 'online', 'teaching-learning', 'model', 'during', 'this', 'challenging', 'period', 'of', 'new', 'normal', '.', 'I', ',', 'along', 'with', 'the', 'entire', 'PICT', 'family', ',', 'take', 'this', 'opportunity', 'to', 'thank', 'all', 'the', 'stakeholders', '(', 'true', 'Brand', 'Ambassadors/Partners', ')', 'for', 'showing', 'solidarity', 'and', 'continuous', 'support', 'in', 'achieving', 'a', 'pioneering', 'position', 'over', 'the', 'last', 'five', 'decades', '.', 'Let', 'me', 'assure', 'you', 'that', 'PICT', 'will', 'provide', 'you', 'with', 'the', 'best', 'combination', 'of', 'skills', ',', 'knowledge', ',', '&', 'teamwork', '(', 'not', 'neglecting', '“', 'attitude', '”', ')', ',', 'to', 'succeed', 'in', 'your', 'chosen', 'career', 'field', 'and', 'will', 'equip', 'the', 'students', 'with', 'the', 'professional', 'acumen', 'that', 'will', 'help', 'them', 'to', 'meet', 'the', 'challenges', 'of', 'the', 'modern', 'industrial', '&', 'service', 'work', 'environment', '.', 'Finally', ',', 'I', 'extend', 'my', 'best', 'wishes', 'to', 'all', 'my', 'student', 'friends', 'for', 'an', 'exciting', 'and', 'rewarding', ',', 'challenging', ',', 'and', 'stimulating', ',', 'four', 'years', 'on', 'this', 'campus', '&', 'a', 'bright', 'future', 'thereafter', '.']\n"
     ]
    }
   ],
   "source": [
    "tokenized_file2 = word_tokenize(dm)\n",
    "print(tokenized_file2)"
   ]
  },
  {
   "cell_type": "code",
   "execution_count": 11,
   "id": "cead7f93-475d-4366-96dd-26d513ab75de",
   "metadata": {},
   "outputs": [
    {
     "name": "stdout",
     "output_type": "stream",
     "text": [
      "['Tokenization', 'is', 'the', 'first', 'step', 'in', 'text', 'analytics', '.', 'The', 'process', 'of', 'breaking', 'down', 'a', 'text', 'paragraph', 'into', 'smaller', 'chunks', 'such', 'as', 'words', 'or', 'sentences', 'is', 'called', 'Tokenization', '.']\n"
     ]
    }
   ],
   "source": [
    "from nltk.tokenize import word_tokenize\n",
    "tokenized_words = word_tokenize(text)\n",
    "print(tokenized_words)"
   ]
  },
  {
   "cell_type": "code",
   "execution_count": 17,
   "id": "204a8435-f3d0-4c7d-b522-8c465572b748",
   "metadata": {},
   "outputs": [
    {
     "data": {
      "text/plain": [
       "{'a',\n",
       " 'about',\n",
       " 'above',\n",
       " 'after',\n",
       " 'again',\n",
       " 'against',\n",
       " 'ain',\n",
       " 'all',\n",
       " 'am',\n",
       " 'an',\n",
       " 'and',\n",
       " 'any',\n",
       " 'are',\n",
       " 'aren',\n",
       " \"aren't\",\n",
       " 'as',\n",
       " 'at',\n",
       " 'be',\n",
       " 'because',\n",
       " 'been',\n",
       " 'before',\n",
       " 'being',\n",
       " 'below',\n",
       " 'between',\n",
       " 'both',\n",
       " 'but',\n",
       " 'by',\n",
       " 'can',\n",
       " 'couldn',\n",
       " \"couldn't\",\n",
       " 'd',\n",
       " 'did',\n",
       " 'didn',\n",
       " \"didn't\",\n",
       " 'do',\n",
       " 'does',\n",
       " 'doesn',\n",
       " \"doesn't\",\n",
       " 'doing',\n",
       " 'don',\n",
       " \"don't\",\n",
       " 'down',\n",
       " 'during',\n",
       " 'each',\n",
       " 'few',\n",
       " 'for',\n",
       " 'from',\n",
       " 'further',\n",
       " 'had',\n",
       " 'hadn',\n",
       " \"hadn't\",\n",
       " 'has',\n",
       " 'hasn',\n",
       " \"hasn't\",\n",
       " 'have',\n",
       " 'haven',\n",
       " \"haven't\",\n",
       " 'having',\n",
       " 'he',\n",
       " \"he'd\",\n",
       " \"he'll\",\n",
       " \"he's\",\n",
       " 'her',\n",
       " 'here',\n",
       " 'hers',\n",
       " 'herself',\n",
       " 'him',\n",
       " 'himself',\n",
       " 'his',\n",
       " 'how',\n",
       " 'i',\n",
       " \"i'd\",\n",
       " \"i'll\",\n",
       " \"i'm\",\n",
       " \"i've\",\n",
       " 'if',\n",
       " 'in',\n",
       " 'into',\n",
       " 'is',\n",
       " 'isn',\n",
       " \"isn't\",\n",
       " 'it',\n",
       " \"it'd\",\n",
       " \"it'll\",\n",
       " \"it's\",\n",
       " 'its',\n",
       " 'itself',\n",
       " 'just',\n",
       " 'll',\n",
       " 'm',\n",
       " 'ma',\n",
       " 'me',\n",
       " 'mightn',\n",
       " \"mightn't\",\n",
       " 'more',\n",
       " 'most',\n",
       " 'mustn',\n",
       " \"mustn't\",\n",
       " 'my',\n",
       " 'myself',\n",
       " 'needn',\n",
       " \"needn't\",\n",
       " 'no',\n",
       " 'nor',\n",
       " 'not',\n",
       " 'now',\n",
       " 'o',\n",
       " 'of',\n",
       " 'off',\n",
       " 'on',\n",
       " 'once',\n",
       " 'only',\n",
       " 'or',\n",
       " 'other',\n",
       " 'our',\n",
       " 'ours',\n",
       " 'ourselves',\n",
       " 'out',\n",
       " 'over',\n",
       " 'own',\n",
       " 're',\n",
       " 's',\n",
       " 'same',\n",
       " 'shan',\n",
       " \"shan't\",\n",
       " 'she',\n",
       " \"she'd\",\n",
       " \"she'll\",\n",
       " \"she's\",\n",
       " 'should',\n",
       " \"should've\",\n",
       " 'shouldn',\n",
       " \"shouldn't\",\n",
       " 'so',\n",
       " 'some',\n",
       " 'such',\n",
       " 't',\n",
       " 'than',\n",
       " 'that',\n",
       " \"that'll\",\n",
       " 'the',\n",
       " 'their',\n",
       " 'theirs',\n",
       " 'them',\n",
       " 'themselves',\n",
       " 'then',\n",
       " 'there',\n",
       " 'these',\n",
       " 'they',\n",
       " \"they'd\",\n",
       " \"they'll\",\n",
       " \"they're\",\n",
       " \"they've\",\n",
       " 'this',\n",
       " 'those',\n",
       " 'through',\n",
       " 'to',\n",
       " 'too',\n",
       " 'under',\n",
       " 'until',\n",
       " 'up',\n",
       " 've',\n",
       " 'very',\n",
       " 'was',\n",
       " 'wasn',\n",
       " \"wasn't\",\n",
       " 'we',\n",
       " \"we'd\",\n",
       " \"we'll\",\n",
       " \"we're\",\n",
       " \"we've\",\n",
       " 'were',\n",
       " 'weren',\n",
       " \"weren't\",\n",
       " 'what',\n",
       " 'when',\n",
       " 'where',\n",
       " 'which',\n",
       " 'while',\n",
       " 'who',\n",
       " 'whom',\n",
       " 'why',\n",
       " 'will',\n",
       " 'with',\n",
       " 'won',\n",
       " \"won't\",\n",
       " 'wouldn',\n",
       " \"wouldn't\",\n",
       " 'y',\n",
       " 'you',\n",
       " \"you'd\",\n",
       " \"you'll\",\n",
       " \"you're\",\n",
       " \"you've\",\n",
       " 'your',\n",
       " 'yours',\n",
       " 'yourself',\n",
       " 'yourselves'}"
      ]
     },
     "execution_count": 17,
     "metadata": {},
     "output_type": "execute_result"
    }
   ],
   "source": [
    "from nltk.corpus import stopwords\n",
    "stop_words = set(stopwords.words(\"english\"))\n",
    "stop_words"
   ]
  },
  {
   "cell_type": "code",
   "execution_count": 33,
   "id": "7042a35a-a0ee-41ad-b3fa-1215cf8aaa3b",
   "metadata": {},
   "outputs": [
    {
     "data": {
      "text/plain": [
       "'How to remove  stop   words with   NLTK library in  Python  '"
      ]
     },
     "execution_count": 33,
     "metadata": {},
     "output_type": "execute_result"
    }
   ],
   "source": [
    "text = \"How to remove, stop * words with & NLTK library in (Python)?\"\n",
    "import re\n",
    "text = re.sub('[^a-zA-Z]', ' ',text)\n",
    "text"
   ]
  },
  {
   "cell_type": "code",
   "execution_count": 22,
   "id": "90eb49c0-81b2-47b7-b72a-a6460b011352",
   "metadata": {},
   "outputs": [
    {
     "data": {
      "text/plain": [
       "['how',\n",
       " 'to',\n",
       " 'remove',\n",
       " 'stop',\n",
       " 'words',\n",
       " 'with',\n",
       " 'nltk',\n",
       " 'library',\n",
       " 'in',\n",
       " 'python']"
      ]
     },
     "execution_count": 22,
     "metadata": {},
     "output_type": "execute_result"
    }
   ],
   "source": [
    "tokens = word_tokenize(text.lower())\n",
    "tokens"
   ]
  },
  {
   "cell_type": "code",
   "execution_count": 23,
   "id": "b759ea19-be40-40e7-be35-ba1d64f41ba0",
   "metadata": {},
   "outputs": [
    {
     "data": {
      "text/plain": [
       "['remove', 'stop', 'words', 'nltk', 'library', 'python']"
      ]
     },
     "execution_count": 23,
     "metadata": {},
     "output_type": "execute_result"
    }
   ],
   "source": [
    "filtered_text = []\n",
    "for w in tokens:\n",
    "    if w not in stop_words:\n",
    "        filtered_text.append(w)\n",
    "filtered_text"
   ]
  },
  {
   "cell_type": "code",
   "execution_count": 27,
   "id": "71e46b85-0c84-4490-9265-ab71080ab965",
   "metadata": {},
   "outputs": [
    {
     "name": "stdout",
     "output_type": "stream",
     "text": [
      "[('remove', 'VB'), ('stop', 'NN'), ('words', 'NNS'), ('nltk', 'JJ'), ('library', 'JJ'), ('python', 'NN')]\n"
     ]
    }
   ],
   "source": [
    "from nltk import pos_tag\n",
    "pos_tags=[]\n",
    "\n",
    "pos_tags = pos_tag(filtered_text)\n",
    "print(pos_tags)"
   ]
  },
  {
   "cell_type": "code",
   "execution_count": 37,
   "id": "4cdd2602-9cd9-46ba-b041-d15caea07584",
   "metadata": {},
   "outputs": [
    {
     "name": "stdout",
     "output_type": "stream",
     "text": [
      "wait\n",
      "wait\n",
      "wait\n",
      "wait\n",
      "sit\n",
      "play\n"
     ]
    }
   ],
   "source": [
    "from nltk import PorterStemmer\n",
    "e_words = [\"wait\", \"waiting\", \"waited\", \"waits\", \"sitting\", \"playing\"]\n",
    "ps = PorterStemmer()\n",
    "for w in e_words:\n",
    "    rootwords = ps.stem(w)\n",
    "    print(rootwords)"
   ]
  },
  {
   "cell_type": "code",
   "execution_count": 38,
   "id": "fcf185a1-85e4-4f88-ba9c-cb3dee5e5b82",
   "metadata": {},
   "outputs": [
    {
     "name": "stdout",
     "output_type": "stream",
     "text": [
      "('studies', 'study')\n",
      "('studying', 'study')\n",
      "('cries', 'cry')\n",
      "('cry', 'cry')\n"
     ]
    }
   ],
   "source": [
    "from nltk import WordNetLemmatizer\n",
    "word_net_lemmatizer = WordNetLemmatizer()\n",
    "text = \" studies studying cries cry\"\n",
    "tokenized = word_tokenize(text)\n",
    "for w in tokenized:\n",
    "    print((w, word_net_lemmatizer.lemmatize(w, pos='v')))"
   ]
  },
  {
   "cell_type": "code",
   "execution_count": 27,
   "id": "9443581c-c26e-4eed-baa6-5d41136bbe28",
   "metadata": {},
   "outputs": [
    {
     "name": "stdout",
     "output_type": "stream",
     "text": [
      "[('The', 'DT')]\n",
      "[('pink', 'NN')]\n",
      "[('sweater', 'NN')]\n",
      "[('fit', 'NN')]\n",
      "[('her', 'PRP$')]\n",
      "[('perfectly', 'RB')]\n"
     ]
    }
   ],
   "source": [
    "from nltk.tokenize import word_tokenize\n",
    "data=\"The pink sweater fit her perfectly\"\n",
    "words=word_tokenize(data)\n",
    "for word in words:\n",
    "    print(nltk.pos_tag([word]))"
   ]
  },
  {
   "cell_type": "code",
   "execution_count": 28,
   "id": "d5f580a4-9831-4003-a55b-20f436fdbd55",
   "metadata": {},
   "outputs": [],
   "source": [
    "#ASSIGNMENT 7TH PART 2 - TFIDF"
   ]
  },
  {
   "cell_type": "code",
   "execution_count": 30,
   "id": "64d373e8-30b9-40d1-bbef-e95259b72f24",
   "metadata": {},
   "outputs": [],
   "source": [
    "import pandas as pd\n",
    "from sklearn.feature_extraction.text import TfidfVectorizer"
   ]
  },
  {
   "cell_type": "code",
   "execution_count": 31,
   "id": "ced68d09-178e-4d5b-bddf-6a41c6ee9166",
   "metadata": {},
   "outputs": [],
   "source": [
    "documentA = 'Jupiter is the largest Planet'\n",
    "documentB = 'Mars is the fourth planet from the Sun'"
   ]
  },
  {
   "cell_type": "code",
   "execution_count": 32,
   "id": "de12d2b8-cd72-4551-88c7-af37071252b0",
   "metadata": {},
   "outputs": [],
   "source": [
    "bagOfWordsA = documentA.split(' ')\n",
    "bagOfWordsB = documentB.split(' ')"
   ]
  },
  {
   "cell_type": "code",
   "execution_count": 35,
   "id": "7715cebd-b2e5-4a79-8587-9ef6b79fa723",
   "metadata": {},
   "outputs": [
    {
     "data": {
      "text/plain": [
       "{'Jupiter',\n",
       " 'Mars',\n",
       " 'Planet',\n",
       " 'Sun',\n",
       " 'fourth',\n",
       " 'from',\n",
       " 'is',\n",
       " 'largest',\n",
       " 'planet',\n",
       " 'the'}"
      ]
     },
     "execution_count": 35,
     "metadata": {},
     "output_type": "execute_result"
    }
   ],
   "source": [
    "uniqueWords = set(bagOfWordsA).union(set(bagOfWordsB))\n",
    "uniqueWords"
   ]
  },
  {
   "cell_type": "code",
   "execution_count": 40,
   "id": "8ce774ce-ecd0-4afd-ac29-f8f583748a16",
   "metadata": {},
   "outputs": [
    {
     "data": {
      "text/plain": [
       "{'Planet': 1,\n",
       " 'is': 1,\n",
       " 'largest': 1,\n",
       " 'planet': 0,\n",
       " 'Mars': 0,\n",
       " 'Sun': 0,\n",
       " 'the': 1,\n",
       " 'from': 0,\n",
       " 'fourth': 0,\n",
       " 'Jupiter': 1}"
      ]
     },
     "execution_count": 40,
     "metadata": {},
     "output_type": "execute_result"
    }
   ],
   "source": [
    "numOfWordsA = dict.fromkeys(uniqueWords, 0)\n",
    "for word in bagOfWordsA:\n",
    "    numOfWordsA[word] += 1\n",
    "numOfWordsA"
   ]
  },
  {
   "cell_type": "code",
   "execution_count": 41,
   "id": "580cfc85-e790-4b09-87c6-42828802c884",
   "metadata": {},
   "outputs": [
    {
     "data": {
      "text/plain": [
       "{'Planet': 0,\n",
       " 'is': 1,\n",
       " 'largest': 0,\n",
       " 'planet': 1,\n",
       " 'Mars': 1,\n",
       " 'Sun': 1,\n",
       " 'the': 2,\n",
       " 'from': 1,\n",
       " 'fourth': 1,\n",
       " 'Jupiter': 0}"
      ]
     },
     "execution_count": 41,
     "metadata": {},
     "output_type": "execute_result"
    }
   ],
   "source": [
    "numOfWordsB = dict.fromkeys(uniqueWords, 0)\n",
    "for word in bagOfWordsB:\n",
    "    numOfWordsB[word] += 1\n",
    "numOfWordsB"
   ]
  },
  {
   "cell_type": "code",
   "execution_count": 42,
   "id": "b4fda017-add5-40b1-965d-17442905211f",
   "metadata": {},
   "outputs": [],
   "source": [
    "def computeTF(wordsDict, bagOfWords):\n",
    "    tfDict = {}\n",
    "    bagOfWordsCount = len(bagOfWords)\n",
    "    for word, count in wordsDict.items():\n",
    "        tfDict[word] = count / float(bagOfWordsCount)\n",
    "    return tfDict"
   ]
  },
  {
   "cell_type": "code",
   "execution_count": 43,
   "id": "ebd9ff45-9210-4680-b279-6817d959d8be",
   "metadata": {},
   "outputs": [
    {
     "data": {
      "text/plain": [
       "{'Planet': 0.2,\n",
       " 'is': 0.2,\n",
       " 'largest': 0.2,\n",
       " 'planet': 0.0,\n",
       " 'Mars': 0.0,\n",
       " 'Sun': 0.0,\n",
       " 'the': 0.2,\n",
       " 'from': 0.0,\n",
       " 'fourth': 0.0,\n",
       " 'Jupiter': 0.2}"
      ]
     },
     "execution_count": 43,
     "metadata": {},
     "output_type": "execute_result"
    }
   ],
   "source": [
    "tfA = computeTF(numOfWordsA, bagOfWordsA)\n",
    "tfA"
   ]
  },
  {
   "cell_type": "code",
   "execution_count": 45,
   "id": "12a2ed9c-55be-4ebf-97d0-b02662a8d1c5",
   "metadata": {},
   "outputs": [
    {
     "data": {
      "text/plain": [
       "{'Planet': 0.0,\n",
       " 'is': 0.125,\n",
       " 'largest': 0.0,\n",
       " 'planet': 0.125,\n",
       " 'Mars': 0.125,\n",
       " 'Sun': 0.125,\n",
       " 'the': 0.25,\n",
       " 'from': 0.125,\n",
       " 'fourth': 0.125,\n",
       " 'Jupiter': 0.0}"
      ]
     },
     "execution_count": 45,
     "metadata": {},
     "output_type": "execute_result"
    }
   ],
   "source": [
    "tfB = computeTF(numOfWordsB, bagOfWordsB)\n",
    "tfB"
   ]
  },
  {
   "cell_type": "code",
   "execution_count": 46,
   "id": "3f567ddd-e398-4d70-9265-40d6d95a2e4f",
   "metadata": {},
   "outputs": [],
   "source": [
    "import math"
   ]
  },
  {
   "cell_type": "code",
   "execution_count": 47,
   "id": "b5752c7b-5257-4492-b4e9-09dff3d29d03",
   "metadata": {},
   "outputs": [],
   "source": [
    "def computeIDF(documents):\n",
    "    N = len(documents)\n",
    "    idfDict = dict.fromkeys(documents[0].keys(), 0)\n",
    "    for document in documents:\n",
    "        for word, val in document.items():\n",
    "            if val > 0:\n",
    "                idfDict[word] += 1\n",
    "    for word, val in idfDict.items():\n",
    "        idfDict[word] = math.log(N / float(val))\n",
    "    return idfDict"
   ]
  },
  {
   "cell_type": "code",
   "execution_count": 48,
   "id": "2b12ed16-3957-4861-81d9-c224851c23a2",
   "metadata": {},
   "outputs": [
    {
     "data": {
      "text/plain": [
       "{'Planet': 0.6931471805599453,\n",
       " 'is': 0.0,\n",
       " 'largest': 0.6931471805599453,\n",
       " 'planet': 0.6931471805599453,\n",
       " 'Mars': 0.6931471805599453,\n",
       " 'Sun': 0.6931471805599453,\n",
       " 'the': 0.0,\n",
       " 'from': 0.6931471805599453,\n",
       " 'fourth': 0.6931471805599453,\n",
       " 'Jupiter': 0.6931471805599453}"
      ]
     },
     "execution_count": 48,
     "metadata": {},
     "output_type": "execute_result"
    }
   ],
   "source": [
    "idfs = computeIDF([numOfWordsA, numOfWordsB])\n",
    "idfs"
   ]
  },
  {
   "cell_type": "code",
   "execution_count": 49,
   "id": "67c4d124-058d-4660-a59f-dec88041bcac",
   "metadata": {},
   "outputs": [],
   "source": [
    "def computeTFIDF(tfBagOfWords, idfs):\n",
    "    tfidf = {}\n",
    "    for word, val in tfBagOfWords.items():\n",
    "        tfidf[word] = val * idfs[word]\n",
    "    return tfidf"
   ]
  },
  {
   "cell_type": "code",
   "execution_count": 50,
   "id": "8ab512b2-50f7-41e8-9947-7f36bc44a24c",
   "metadata": {},
   "outputs": [
    {
     "data": {
      "text/html": [
       "<div>\n",
       "<style scoped>\n",
       "    .dataframe tbody tr th:only-of-type {\n",
       "        vertical-align: middle;\n",
       "    }\n",
       "\n",
       "    .dataframe tbody tr th {\n",
       "        vertical-align: top;\n",
       "    }\n",
       "\n",
       "    .dataframe thead th {\n",
       "        text-align: right;\n",
       "    }\n",
       "</style>\n",
       "<table border=\"1\" class=\"dataframe\">\n",
       "  <thead>\n",
       "    <tr style=\"text-align: right;\">\n",
       "      <th></th>\n",
       "      <th>Planet</th>\n",
       "      <th>is</th>\n",
       "      <th>largest</th>\n",
       "      <th>planet</th>\n",
       "      <th>Mars</th>\n",
       "      <th>Sun</th>\n",
       "      <th>the</th>\n",
       "      <th>from</th>\n",
       "      <th>fourth</th>\n",
       "      <th>Jupiter</th>\n",
       "    </tr>\n",
       "  </thead>\n",
       "  <tbody>\n",
       "    <tr>\n",
       "      <th>0</th>\n",
       "      <td>0.138629</td>\n",
       "      <td>0.0</td>\n",
       "      <td>0.138629</td>\n",
       "      <td>0.000000</td>\n",
       "      <td>0.000000</td>\n",
       "      <td>0.000000</td>\n",
       "      <td>0.0</td>\n",
       "      <td>0.000000</td>\n",
       "      <td>0.000000</td>\n",
       "      <td>0.138629</td>\n",
       "    </tr>\n",
       "    <tr>\n",
       "      <th>1</th>\n",
       "      <td>0.000000</td>\n",
       "      <td>0.0</td>\n",
       "      <td>0.000000</td>\n",
       "      <td>0.086643</td>\n",
       "      <td>0.086643</td>\n",
       "      <td>0.086643</td>\n",
       "      <td>0.0</td>\n",
       "      <td>0.086643</td>\n",
       "      <td>0.086643</td>\n",
       "      <td>0.000000</td>\n",
       "    </tr>\n",
       "  </tbody>\n",
       "</table>\n",
       "</div>"
      ],
      "text/plain": [
       "     Planet   is   largest    planet      Mars       Sun  the      from  \\\n",
       "0  0.138629  0.0  0.138629  0.000000  0.000000  0.000000  0.0  0.000000   \n",
       "1  0.000000  0.0  0.000000  0.086643  0.086643  0.086643  0.0  0.086643   \n",
       "\n",
       "     fourth   Jupiter  \n",
       "0  0.000000  0.138629  \n",
       "1  0.086643  0.000000  "
      ]
     },
     "execution_count": 50,
     "metadata": {},
     "output_type": "execute_result"
    }
   ],
   "source": [
    "tfidfA = computeTFIDF(tfA, idfs)\n",
    "tfidfB = computeTFIDF(tfB, idfs)\n",
    "df = pd.DataFrame([tfidfA, tfidfB])\n",
    "df"
   ]
  },
  {
   "cell_type": "code",
   "execution_count": null,
   "id": "de14e7c0-c029-46f7-8c3f-4912829b80d1",
   "metadata": {},
   "outputs": [],
   "source": []
  }
 ],
 "metadata": {
  "kernelspec": {
   "display_name": "Python 3 (ipykernel)",
   "language": "python",
   "name": "python3"
  },
  "language_info": {
   "codemirror_mode": {
    "name": "ipython",
    "version": 3
   },
   "file_extension": ".py",
   "mimetype": "text/x-python",
   "name": "python",
   "nbconvert_exporter": "python",
   "pygments_lexer": "ipython3",
   "version": "3.12.7"
  }
 },
 "nbformat": 4,
 "nbformat_minor": 5
}
